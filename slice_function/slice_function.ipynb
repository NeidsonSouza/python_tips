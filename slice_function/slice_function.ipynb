{
  "nbformat": 4,
  "nbformat_minor": 0,
  "metadata": {
    "colab": {
      "name": "Untitled0.ipynb",
      "provenance": []
    },
    "kernelspec": {
      "name": "python3",
      "display_name": "Python 3"
    }
  },
  "cells": [
    {
      "cell_type": "markdown",
      "metadata": {
        "id": "b5QFRWmoQaZc"
      },
      "source": [
        "## Knowing the built-in function ```slice```\n",
        "\n",
        "It's used to slice lists (including stings). Take a look at the code below."
      ]
    },
    {
      "cell_type": "code",
      "metadata": {
        "colab": {
          "base_uri": "https://localhost:8080/"
        },
        "id": "oj3IjkLwQV1K",
        "outputId": "c23766a9-20aa-4b77-fadd-445b845b9f21"
      },
      "source": [
        "relatorio_estoque = \"\"\"\n",
        "001          Refrigerante 2L       010          R$ 9.85          R$ 98.50\n",
        "002          Lata de óleo          009          R$ 8.00          R$ 72.00\n",
        "003          Pacote de Feijão      007          R$ 12.09         R$ 84.63\n",
        "004          Pacote de arroz       003          R$ 19.99         R$ 59.97\n",
        "005          Lata de milho verde   002          R$ 8.85          R$ 17.70\n",
        "\"\"\"\n",
        "\n",
        "DESCRICAO = slice(13, 32)\n",
        "QUANTIDADE = slice(35, 38)\n",
        "PRECO_UNIDADE = slice(48, 56)\n",
        "VALOR_TOTAL_PRODUTO = slice(65, 80)\n",
        "\n",
        "item_estoque = relatorio_estoque.split('\\n')[1:-1]\n",
        "\n",
        "for item in item_estoque:\n",
        "    print('{} x {} ({}) = {}'.format(\n",
        "        item[QUANTIDADE],\n",
        "        item[DESCRICAO],\n",
        "        item[PRECO_UNIDADE],\n",
        "        item[VALOR_TOTAL_PRODUTO]\n",
        "        ))\n"
      ],
      "execution_count": 1,
      "outputs": [
        {
          "output_type": "stream",
          "text": [
            "010 x Refrigerante 2L     (R$ 9.85 ) = R$ 98.50\n",
            "009 x Lata de óleo        (R$ 8.00 ) = R$ 72.00\n",
            "007 x Pacote de Feijão    (R$ 12.09) = R$ 84.63\n",
            "003 x Pacote de arroz     (R$ 19.99) = R$ 59.97\n",
            "002 x Lata de milho verde (R$ 8.85 ) = R$ 17.70\n"
          ],
          "name": "stdout"
        }
      ]
    }
  ]
}