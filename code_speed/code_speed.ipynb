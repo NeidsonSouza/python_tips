{
 "metadata": {
  "language_info": {
   "codemirror_mode": {
    "name": "ipython",
    "version": 3
   },
   "file_extension": ".py",
   "mimetype": "text/x-python",
   "name": "python",
   "nbconvert_exporter": "python",
   "pygments_lexer": "ipython3",
   "version": "3.7.3-final"
  },
  "orig_nbformat": 2,
  "kernelspec": {
   "name": "python3",
   "display_name": "Python 3"
  }
 },
 "nbformat": 4,
 "nbformat_minor": 2,
 "cells": [
  {
   "source": [
    "## Class without methods using ```collections.namedtuple```\n",
    "When you want to create a class only with attributes and without methods using python you can choose ```collections.namedtuple``` to do that."
   ],
   "cell_type": "markdown",
   "metadata": {}
  },
  {
   "source": [
    "* Example using traditional class"
   ],
   "cell_type": "markdown",
   "metadata": {}
  },
  {
   "cell_type": "code",
   "execution_count": 1,
   "metadata": {},
   "outputs": [
    {
     "output_type": "stream",
     "name": "stdout",
     "text": [
      "{'first_name': 'John', 'last_name': 'Smith', 'age': '25'}\nJohn\nSmith\n25\n"
     ]
    }
   ],
   "source": [
    "# Person class\n",
    "class Person:\n",
    "\n",
    "    def __init__(self, first_name, last_name, age):\n",
    "        self.first_name = first_name\n",
    "        self.last_name = last_name\n",
    "        self.age = age\n",
    "\n",
    "\n",
    "#### main code ####\n",
    "someone = Person('John', 'Smith', '25')\n",
    "# or\n",
    "# someone = Person(\n",
    "#     first_name='John',\n",
    "#     last_name='Smith',\n",
    "#     age='25'\n",
    "#     )\n",
    "\n",
    "print(someone.__dict__)\n",
    "print(someone.first_name)\n",
    "print(someone.last_name)\n",
    "print(someone.age)"
   ]
  },
  {
   "source": [
    "* Example with ```collection.namedtuple```"
   ],
   "cell_type": "markdown",
   "metadata": {}
  },
  {
   "cell_type": "code",
   "execution_count": 2,
   "metadata": {},
   "outputs": [
    {
     "output_type": "stream",
     "name": "stdout",
     "text": [
      "Person(first_name='John', last_name='Smith', age='25')\nJohn\nSmith\n25\n"
     ]
    }
   ],
   "source": [
    "from collections import namedtuple\n",
    "\n",
    "# Person class\n",
    "Person = namedtuple('Person', 'first_name last_name age')\n",
    "# or\n",
    "# Person = namedtuple('Person', ['first_name', 'last_name', 'age'])\n",
    "\n",
    "\n",
    "#### main code ####\n",
    "someone = Person('John', 'Smith', '25')\n",
    "# or\n",
    "# someone = Person(\n",
    "#     first_name='John',\n",
    "#     last_name='Smith',\n",
    "#     age='25'\n",
    "#     )\n",
    "\n",
    "print(someone)\n",
    "print(someone.first_name)\n",
    "print(someone.last_name)\n",
    "print(someone.age)"
   ]
  }
 ]
}