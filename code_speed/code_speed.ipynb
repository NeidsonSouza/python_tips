{
 "metadata": {
  "language_info": {
   "codemirror_mode": {
    "name": "ipython",
    "version": 3
   },
   "file_extension": ".py",
   "mimetype": "text/x-python",
   "name": "python",
   "nbconvert_exporter": "python",
   "pygments_lexer": "ipython3",
   "version": "3.7.3-final"
  },
  "orig_nbformat": 2,
  "kernelspec": {
   "name": "python3",
   "display_name": "Python 3"
  }
 },
 "nbformat": 4,
 "nbformat_minor": 2,
 "cells": [
  {
   "source": [
    "## Measuring code speed using ```timeit``` and ```time.time()```\n",
    "When you want to measure the code speed in python you can do it using ```timeit``` or ```time.time()```"
   ],
   "cell_type": "markdown",
   "metadata": {}
  },
  {
   "source": [
    "* Example using ```timeit```"
   ],
   "cell_type": "markdown",
   "metadata": {}
  },
  {
   "cell_type": "code",
   "execution_count": 14,
   "metadata": {},
   "outputs": [
    {
     "output_type": "stream",
     "name": "stdout",
     "text": [
      "Five measurements\n\n0.05169885599934787 seconds\n0.04616650600110006 seconds\n0.04245165700012876 seconds\n0.0453258609995828 seconds\n0.04618289600148273 seconds\n\nMean of five measurements:\n0.0464 seconds\n"
     ]
    }
   ],
   "source": [
    "import timeit\n",
    "import numpy as np\n",
    "\n",
    "TIMES = 1 # How many times you want\n",
    "\n",
    "RUN_ONCE_BEFORE = \"\"\"\n",
    "even_odd_number = [number for number in range(1000000)]\n",
    "\"\"\"\n",
    "\n",
    "CODE_TO_REPET = \"\"\"\n",
    "even_numbers = [number for number in even_odd_number if number % 2 == 0]\n",
    "\"\"\"\n",
    "\n",
    "spent_time = timeit.repeat(CODE_TO_REPET, setup=RUN_ONCE_BEFORE, number=TIMES)\n",
    "\n",
    "print(\"Five measurements\\n\")\n",
    "print(*spent_time, sep=' seconds\\n', end=' seconds\\n\\n')\n",
    "print(\"Mean of five measurements:\\n{:.4f} seconds\".format(np.mean(spent_time)))"
   ]
  },
  {
   "source": [
    "* Example using ```time.time()```"
   ],
   "cell_type": "markdown",
   "metadata": {}
  },
  {
   "cell_type": "code",
   "execution_count": 15,
   "metadata": {},
   "outputs": [
    {
     "output_type": "stream",
     "name": "stdout",
     "text": [
      "Spent time: 0.066 seconds\n"
     ]
    }
   ],
   "source": [
    "import time\n",
    "\n",
    "even_odd_number = [number for number in range(1000000)]\n",
    "\n",
    "start_time = time.time()\n",
    "even_numbers = [number for number in even_odd_number if number % 2 == 0]\n",
    "end_time = time.time()\n",
    "\n",
    "print(\"Spent time: {:.3f} seconds\".format(end_time - start_time))"
   ]
  }
 ]
}