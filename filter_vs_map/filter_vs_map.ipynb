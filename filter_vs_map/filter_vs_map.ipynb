{
  "nbformat": 4,
  "nbformat_minor": 0,
  "metadata": {
    "colab": {
      "name": "filter_vs_map.ipynb",
      "provenance": [],
      "collapsed_sections": []
    },
    "kernelspec": {
      "name": "python3",
      "display_name": "Python 3"
    }
  },
  "cells": [
    {
      "cell_type": "markdown",
      "metadata": {
        "id": "0viYceunRR0D"
      },
      "source": [
        "## What is the diference between the built-in function ```map``` and ```filter``` in Python?"
      ]
    },
    {
      "cell_type": "code",
      "metadata": {
        "id": "xoyMSek8PzwP"
      },
      "source": [
        "def is_even(item):\n",
        "    return True if item % 2 == 0 else False\n",
        "\n",
        "numbers = [0, 1, 2, 3, 4, 5, 6, 7, 8, 9, 10]\n",
        "\n",
        "result_filter = list(filter(is_even, numbers))\n",
        "result_map = list(map(is_even, numbers))"
      ],
      "execution_count": 1,
      "outputs": []
    },
    {
      "cell_type": "code",
      "metadata": {
        "colab": {
          "base_uri": "https://localhost:8080/"
        },
        "id": "VJAprTHYVlnA",
        "outputId": "b737e3c2-22f4-4316-8e57-66bf33cd3ba1"
      },
      "source": [
        "result_filter"
      ],
      "execution_count": 2,
      "outputs": [
        {
          "output_type": "execute_result",
          "data": {
            "text/plain": [
              "[0, 2, 4, 6, 8, 10]"
            ]
          },
          "metadata": {
            "tags": []
          },
          "execution_count": 2
        }
      ]
    },
    {
      "cell_type": "code",
      "metadata": {
        "colab": {
          "base_uri": "https://localhost:8080/"
        },
        "id": "R4IzvzTqVvyy",
        "outputId": "5669ce82-7314-4a52-8f7d-9b97d716798f"
      },
      "source": [
        "result_map"
      ],
      "execution_count": 3,
      "outputs": [
        {
          "output_type": "execute_result",
          "data": {
            "text/plain": [
              "[True, False, True, False, True, False, True, False, True, False, True]"
            ]
          },
          "metadata": {
            "tags": []
          },
          "execution_count": 3
        }
      ]
    }
  ]
}